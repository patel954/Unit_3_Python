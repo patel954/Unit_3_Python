{
 "cells": [
  {
   "cell_type": "code",
   "execution_count": 4,
   "id": "eb0991c0-137e-4fc5-ae6a-605aa46f93c9",
   "metadata": {},
   "outputs": [],
   "source": [
    "\n",
    "import csv\n",
    "from pathlib import Path\n",
    "\n",
    "# Set the file path\n",
    "csvpath = Path(\"/Users/tejaspatel/Documents/Blockchain/Python-Homework/python-homework/PyBank/budget_data.csv\")\n",
    "analysis = {}\n",
    "\n",
    "# Open the csv file as an object\n",
    "with open(csvpath,'r') as csvfile:\n",
    "    \n",
    "    csvreader = csv.reader(csvfile)\n",
    "    \n",
    "    csv_header = next(csvreader)\n",
    "    \n",
    "    #All variables are initialized \n",
    "    first_row = next(csvreader)\n",
    "    totalMonths = 1\n",
    "    net_profit =0 \n",
    "    previous_net = int(first_row[1]) \n",
    "    net_change_list = 0\n",
    "    average = 0\n",
    "    greatest_increase = 0\n",
    "    greatest_decrease = 0\n",
    "    greatest_increase_date = \"\"\n",
    "    for row in csvreader:\n",
    "        \n",
    "        net_profit += int(row[1])\n",
    "        \n",
    "        #This will count total number of months\n",
    "        totalMonths += 1\n",
    "        \n",
    "        net_change = int(row[1]) - previous_net\n",
    "        previous_net = int(row[1])\n",
    "        \n",
    "        net_change_list = net_change_list + net_change\n",
    "        total_Months = totalMonths - 1\n",
    "        \n",
    "        #This will give you average of the total profit/loss\n",
    "        average = round(net_change_list/total_Months , 2)\n",
    "        \n",
    "        if net_change > greatest_increase:\n",
    "        \n",
    "            greatest_increase = net_change\n",
    "            greatest_increase_date = str(row[0])\n",
    "            \n",
    "        if net_change < greatest_decrease:\n",
    "            \n",
    "            greatest_decrease = net_change\n",
    "            greatest_decrease_date = str(row[0])\n",
    "\n",
    "#Create a file as output.txt       \n",
    "output_path = 'output.txt'\n",
    "\n",
    "#This will help in writing all the data in the output.txt file\n",
    "with open(output_path, 'w') as file:\n",
    "    # Write daily_average to the output file, convert to string\n",
    "    file.write(\"Financial Analysis \\n\")\n",
    "    file.write(\"------------------------------------\\n\")\n",
    "    file.write(f\"Total Months: {totalMonths}\\n\")\n",
    "    file.write(f\"Total: ${net_profit}\\n\")\n",
    "    file.write(f\"Average Change: ${average}\\n\")\n",
    "    file.write(f\"Greatest Increase in Profits: {greatest_increase_date} (${greatest_increase})\\n\")\n",
    "    file.write(f\"Greatest Decrease in Profits: {greatest_decrease_date} (${greatest_decrease})\\n\")\n",
    "        "
   ]
  },
  {
   "cell_type": "code",
   "execution_count": 2,
   "id": "f8374158-9fdf-469b-86cd-3911d2620ff2",
   "metadata": {},
   "outputs": [
    {
     "name": "stdout",
     "output_type": "stream",
     "text": [
      "Financial Analysis \n",
      "\n",
      "------------------------------------\n",
      "\n",
      "Total Months: 86\n",
      "Total: $37514694\n",
      "Average Change: $-2315.12\n",
      "Greatest Increase in Profits: Feb-2012 ($1926159)\n",
      "Greatest Decrease in Profits: Sep-2013 ($-2196167)\n"
     ]
    }
   ],
   "source": [
    "print(\"Financial Analysis \\n\")\n",
    "print(\"------------------------------------\\n\")\n",
    "print(f\"Total Months: {totalMonths}\")\n",
    "print(f\"Total: ${net_profit}\")\n",
    "print(f\"Average Change: ${average}\")\n",
    "print(f\"Greatest Increase in Profits: {greatest_increase_date} (${greatest_increase})\")\n",
    "print(f\"Greatest Decrease in Profits: {greatest_decrease_date} (${greatest_decrease})\")"
   ]
  }
 ],
 "metadata": {
  "kernelspec": {
   "display_name": "Python 3 (ipykernel)",
   "language": "python",
   "name": "python3"
  },
  "language_info": {
   "codemirror_mode": {
    "name": "ipython",
    "version": 3
   },
   "file_extension": ".py",
   "mimetype": "text/x-python",
   "name": "python",
   "nbconvert_exporter": "python",
   "pygments_lexer": "ipython3",
   "version": "3.9.12"
  }
 },
 "nbformat": 4,
 "nbformat_minor": 5
}
